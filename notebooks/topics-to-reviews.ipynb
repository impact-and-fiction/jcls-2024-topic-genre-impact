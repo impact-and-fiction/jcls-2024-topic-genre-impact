{
 "cells": [
  {
   "cell_type": "markdown",
   "id": "f323ad9c-d8cf-443a-9f1c-8b52f9f7d912",
   "metadata": {},
   "source": [
    "# Link book topics to reviews"
   ]
  },
  {
   "cell_type": "markdown",
   "id": "6e3cd18f-8861-4a82-9e7c-ab3a0151652c",
   "metadata": {},
   "source": [
    "In this notebook, we link the book topics found by the top2vec model to the reviews that readers have left after reading those books."
   ]
  },
  {
   "cell_type": "code",
   "execution_count": 9,
   "id": "5a3dd61f-be7d-469b-9111-7ba186178191",
   "metadata": {},
   "outputs": [],
   "source": [
    "import numpy as np\n",
    "import pandas as pd\n",
    "from top2vec import Top2Vec\n",
    "from scipy.spatial.distance import cosine\n",
    "from tqdm import tqdm\n",
    "\n",
    "# custom made classes to preprocess and tidy-up dataframes\n",
    "from src.topic_summary import ModelAnalyser, NurGenreMapper, ReviewExtractor"
   ]
  },
  {
   "cell_type": "markdown",
   "id": "7f32325b-8ea4-4ec6-a215-dfec5eecc18e",
   "metadata": {},
   "source": [
    "#### Set paths"
   ]
  },
  {
   "cell_type": "code",
   "execution_count": 4,
   "id": "353fb3c8-a098-4f0f-8d4a-9b8f9a4b7b50",
   "metadata": {},
   "outputs": [],
   "source": [
    "# please change the following paths to reflect the location of the top2vec model in your local directory\n",
    "\n",
    "folder_path = \"/Users/evaviviani/github/impact-and-fiction/models/\" "
   ]
  },
  {
   "cell_type": "markdown",
   "id": "0f5ed872-ab2d-4486-8a4e-743d04799fef",
   "metadata": {},
   "source": [
    "#### Load custom-made functions"
   ]
  },
  {
   "cell_type": "code",
   "execution_count": 6,
   "id": "6a94887c-dcec-48f0-923f-407d75e9e147",
   "metadata": {},
   "outputs": [],
   "source": [
    "def normalize_distances(distances):\n",
    "    \"\"\"\n",
    "    Normalize the cosine distances to get a distribution over topics.\n",
    "\n",
    "    Parameters:\n",
    "    - distances (list of float): Cosine distances for the n closest topics.\n",
    "\n",
    "    Returns:\n",
    "    - normalized_similarities: Normalized cosine similarity scores for the n closest topics.\n",
    "    \"\"\"\n",
    "    # Convert distances to similarities\n",
    "    similarities = [1 - dist for dist in distances]\n",
    "    \n",
    "    # Normalize the similarities\n",
    "    total_sim = sum(similarities)\n",
    "    normalized_similarities = [sim / total_sim for sim in similarities]\n",
    "    \n",
    "    return normalized_similarities"
   ]
  },
  {
   "cell_type": "code",
   "execution_count": 7,
   "id": "16418136-1ec4-4476-9dcf-c585e9aa13eb",
   "metadata": {},
   "outputs": [],
   "source": [
    "# this class is useful to analyse the Top2Vec models output\n",
    "analyser = ModelAnalyser()"
   ]
  },
  {
   "cell_type": "markdown",
   "id": "d1828044-e815-43c5-abdc-075bff3f0ba6",
   "metadata": {},
   "source": [
    "#### Load top2vec model"
   ]
  },
  {
   "cell_type": "markdown",
   "id": "317e7396-ef4b-48a2-a769-c672a8c17064",
   "metadata": {},
   "source": [
    "In this section we load the top2vec model and flatten all the information to have a dataframe with which we can merge the reviews."
   ]
  },
  {
   "cell_type": "code",
   "execution_count": 8,
   "id": "088cf554-cb6b-4d0a-aa23-5260ef7184ff",
   "metadata": {},
   "outputs": [],
   "source": [
    "model = analyser.load_model(folder_path + 't2v_model-10921_novels-win_-1-all_win_denoised-min_frac_0.01-max_frac_0.1')"
   ]
  },
  {
   "cell_type": "markdown",
   "id": "323ade6e-ac76-462d-a73b-3c13ca1fb78c",
   "metadata": {},
   "source": [
    "For each document, select the n closest topics"
   ]
  },
  {
   "cell_type": "code",
   "execution_count": 10,
   "id": "b1cf5be1-9adc-4916-9398-dee5c682be89",
   "metadata": {},
   "outputs": [
    {
     "name": "stderr",
     "output_type": "stream",
     "text": [
      "100%|████████████████████████████████████| 10921/10921 [00:15<00:00, 706.31it/s]\n"
     ]
    }
   ],
   "source": [
    "dv, tv, wv = analyser.get_vectors_from_model(model)\n",
    "\n",
    "document_topic = []\n",
    "topics_distance = []\n",
    "\n",
    "for d in tqdm(dv):\n",
    "    idx, distances = analyser.closest_topics(d, tv, n=5)\n",
    "    document_topic.append(idx)\n",
    "    topics_distance.append(normalize_distances(distances))"
   ]
  },
  {
   "cell_type": "markdown",
   "id": "3ff4da37-f565-4bad-b548-3fd63b26acfc",
   "metadata": {},
   "source": [
    "Next, we create dataframe out of the data contained in the output of the top2vec model. Steps are explained in the comments below."
   ]
  },
  {
   "cell_type": "code",
   "execution_count": 11,
   "id": "7185c487-3e56-4788-af9f-41ff033e2e45",
   "metadata": {},
   "outputs": [],
   "source": [
    "# extract document IDs\n",
    "document_ids = [i.split('-')[0] for i in model.document_ids] \n",
    "\n",
    "# flatten the list of lists of cosine distances\n",
    "cosine_distances = [distance for sublist in topics_distance for distance in sublist]\n",
    "\n",
    "# do the same for topic numbers and positions (just in case these info turn out to be useful afterwards)\n",
    "topic_numbers = [number for sublist in document_topic for number in sublist]\n",
    "\n",
    "topic_position = [number_pos for sublist in document_topic for number_pos in range(len(sublist))]\n",
    "\n",
    "# repeated list of document_ids\n",
    "repeated_ids = [doc_id for doc_id in document_ids for _ in range(len(topics_distance[0]))]\n",
    "\n",
    "df = pd.DataFrame({\n",
    "    'isbn': repeated_ids,\n",
    "    'cosine_distance': cosine_distances,\n",
    "    'topic_position': topic_position,\n",
    "    'topic_number': topic_numbers\n",
    "})"
   ]
  },
  {
   "cell_type": "code",
   "execution_count": 12,
   "id": "39856631-9656-4d4e-96cb-206dc16d657b",
   "metadata": {},
   "outputs": [],
   "source": [
    "topic_words, word_scores, topic_nums = model.get_topics()\n",
    "\n",
    "# add topic words\n",
    "df['topic_words'] = [model.topic_words[i] for i in df['topic_number']]\n",
    "# add topic vectors\n",
    "df['topic_vectors'] = [model.topic_vectors[i] for i in df['topic_number']]\n",
    "# add word vectors\n",
    "df['topic_word_vectors'] = [word_scores[i] for i in df['topic_number']]"
   ]
  },
  {
   "cell_type": "markdown",
   "id": "505b3250-fb31-4065-bb58-fdb4f8595a1a",
   "metadata": {},
   "source": [
    "This is our resulting dataframe which contains the information about how many and which topics are associated to which book. The relative topic words in that topic, topic vectors ad topic_word_vectors."
   ]
  },
  {
   "cell_type": "code",
   "execution_count": 13,
   "id": "7bb2bf7c-ec47-416a-857f-e608d2304a5f",
   "metadata": {},
   "outputs": [
    {
     "data": {
      "text/html": [
       "<div>\n",
       "<style scoped>\n",
       "    .dataframe tbody tr th:only-of-type {\n",
       "        vertical-align: middle;\n",
       "    }\n",
       "\n",
       "    .dataframe tbody tr th {\n",
       "        vertical-align: top;\n",
       "    }\n",
       "\n",
       "    .dataframe thead th {\n",
       "        text-align: right;\n",
       "    }\n",
       "</style>\n",
       "<table border=\"1\" class=\"dataframe\">\n",
       "  <thead>\n",
       "    <tr style=\"text-align: right;\">\n",
       "      <th></th>\n",
       "      <th>isbn</th>\n",
       "      <th>cosine_distance</th>\n",
       "      <th>topic_position</th>\n",
       "      <th>topic_number</th>\n",
       "      <th>topic_words</th>\n",
       "      <th>topic_vectors</th>\n",
       "      <th>topic_word_vectors</th>\n",
       "    </tr>\n",
       "  </thead>\n",
       "  <tbody>\n",
       "    <tr>\n",
       "      <th>0</th>\n",
       "      <td>9789402522297</td>\n",
       "      <td>0.267482</td>\n",
       "      <td>0</td>\n",
       "      <td>0</td>\n",
       "      <td>[cara, teemde, privejet, querida, lustgevoelen...</td>\n",
       "      <td>[0.010043722, 0.15458588, -0.021236569, -0.000...</td>\n",
       "      <td>[0.673147, 0.5679335, 0.55956966, 0.55685467, ...</td>\n",
       "    </tr>\n",
       "    <tr>\n",
       "      <th>1</th>\n",
       "      <td>9789402522297</td>\n",
       "      <td>0.197697</td>\n",
       "      <td>1</td>\n",
       "      <td>40</td>\n",
       "      <td>[bliken, communications, flynn, hudson, blikke...</td>\n",
       "      <td>[0.009354808, 0.13535821, -0.019368501, -0.042...</td>\n",
       "      <td>[0.54636735, 0.48367235, 0.44614616, 0.4025609...</td>\n",
       "    </tr>\n",
       "  </tbody>\n",
       "</table>\n",
       "</div>"
      ],
      "text/plain": [
       "            isbn  cosine_distance  topic_position  topic_number  \\\n",
       "0  9789402522297         0.267482               0             0   \n",
       "1  9789402522297         0.197697               1            40   \n",
       "\n",
       "                                         topic_words  \\\n",
       "0  [cara, teemde, privejet, querida, lustgevoelen...   \n",
       "1  [bliken, communications, flynn, hudson, blikke...   \n",
       "\n",
       "                                       topic_vectors  \\\n",
       "0  [0.010043722, 0.15458588, -0.021236569, -0.000...   \n",
       "1  [0.009354808, 0.13535821, -0.019368501, -0.042...   \n",
       "\n",
       "                                  topic_word_vectors  \n",
       "0  [0.673147, 0.5679335, 0.55956966, 0.55685467, ...  \n",
       "1  [0.54636735, 0.48367235, 0.44614616, 0.4025609...  "
      ]
     },
     "execution_count": 13,
     "metadata": {},
     "output_type": "execute_result"
    }
   ],
   "source": [
    "df.head(2)"
   ]
  },
  {
   "cell_type": "markdown",
   "id": "fcb37aaa-e6f0-413a-a0e0-5617f1eb3264",
   "metadata": {},
   "source": [
    "#### Load reviews"
   ]
  },
  {
   "cell_type": "markdown",
   "id": "f8318253-e867-458d-a3b3-83dbaf3497a0",
   "metadata": {},
   "source": [
    "In this section we need to put together multiple datasets containing the mapping between words and isbns, and the relative reviews. "
   ]
  },
  {
   "cell_type": "code",
   "execution_count": 15,
   "id": "08e83a9c-ccbb-4b40-a942-8a349e20e823",
   "metadata": {},
   "outputs": [],
   "source": [
    "# please change the following paths to reflect the location of the following files in your local directory\n",
    "\n",
    "review_dir = '../../models/reviews/review-impact_matches.tsv.gz'\n",
    "raw_review_data = '../../models/reviews/reviews-stats.tsv.gz'\n",
    "isbn_map = \"../../data/work-isbn-mapping.tsv\"\n",
    "isbn_work_id_mappings_file = \"../../data/work_isbn_genre.tsv\"\n"
   ]
  },
  {
   "cell_type": "code",
   "execution_count": 16,
   "id": "a10559d3-f21f-4362-a59c-898d897caf2c",
   "metadata": {},
   "outputs": [],
   "source": [
    "# this class helps to preprocess the inputs and output a genre mapping file\n",
    "mapper = NurGenreMapper(isbn_map, isbn_work_id_mappings_file)\n",
    "\n",
    "# this class produces as output the impact_reviews\n",
    "extractor = ReviewExtractor(review_dir, raw_review_data)"
   ]
  },
  {
   "cell_type": "code",
   "execution_count": 17,
   "id": "df0fba2f-8764-48fb-90df-da81ef1780f5",
   "metadata": {},
   "outputs": [],
   "source": [
    "# get the mapping file which contains `word_id` and `isbn` columns. These are necessary to merge the reviews\n",
    "mapped_df = mapper.process_genre_mapping()\n",
    "\n",
    "# this is our impact reviews dataset:\n",
    "reviews = extractor.get_impact_reviews()\n",
    "\n",
    "# NB. left-join is the best way to merge the files without losing data\n",
    "reviews_merged_with_genre = pd.merge(reviews, mapped_df, on = 'work_id', how = 'left')"
   ]
  },
  {
   "cell_type": "markdown",
   "id": "4e83fcc0-ec5b-4177-be5c-7f0c501a22c8",
   "metadata": {},
   "source": [
    "Dataset consists of impact terms extracted from the reviews of books by the impact model and scored according to affect, style, narrative and reflection. "
   ]
  },
  {
   "cell_type": "code",
   "execution_count": 20,
   "id": "cf9a6e80-f3de-46fd-bce8-7aa13f8180f0",
   "metadata": {},
   "outputs": [],
   "source": [
    "# I give it a shorter name so that's easier to handle in the code\n",
    "dt = reviews_merged_with_genre"
   ]
  },
  {
   "cell_type": "markdown",
   "id": "9e62123f-76ce-491c-bef5-e86772de47e7",
   "metadata": {},
   "source": [
    "Step below takes all impact terms and if there are any multiwords it appends the word as an additional row below."
   ]
  },
  {
   "cell_type": "code",
   "execution_count": 22,
   "id": "d868dbfd-2fdf-4a7c-afdc-ff84e5f2a112",
   "metadata": {},
   "outputs": [],
   "source": [
    "dt_expanded = dt.assign(impact_term=dt['impact_term'].str.split()).explode('impact_term')"
   ]
  },
  {
   "cell_type": "markdown",
   "id": "4111c64a-8f57-4e5d-9599-7e37bb3d3f7e",
   "metadata": {},
   "source": [
    "This is our resulting dataframe containing the info regarding the reviews:"
   ]
  },
  {
   "cell_type": "code",
   "execution_count": 23,
   "id": "ad587fae-5d02-4f68-8ef9-eb456abda526",
   "metadata": {},
   "outputs": [
    {
     "data": {
      "text/html": [
       "<div>\n",
       "<style scoped>\n",
       "    .dataframe tbody tr th:only-of-type {\n",
       "        vertical-align: middle;\n",
       "    }\n",
       "\n",
       "    .dataframe tbody tr th {\n",
       "        vertical-align: top;\n",
       "    }\n",
       "\n",
       "    .dataframe thead th {\n",
       "        text-align: right;\n",
       "    }\n",
       "</style>\n",
       "<table border=\"1\" class=\"dataframe\">\n",
       "  <thead>\n",
       "    <tr style=\"text-align: right;\">\n",
       "      <th></th>\n",
       "      <th>work_id</th>\n",
       "      <th>review_id</th>\n",
       "      <th>affect</th>\n",
       "      <th>style</th>\n",
       "      <th>narrative</th>\n",
       "      <th>reflection</th>\n",
       "      <th>impact_term</th>\n",
       "      <th>review_num_words</th>\n",
       "      <th>isbn</th>\n",
       "      <th>nur_genre</th>\n",
       "    </tr>\n",
       "  </thead>\n",
       "  <tbody>\n",
       "    <tr>\n",
       "      <th>0</th>\n",
       "      <td>impfic-work-3723</td>\n",
       "      <td>impfic-review-1</td>\n",
       "      <td>1</td>\n",
       "      <td>0</td>\n",
       "      <td>0</td>\n",
       "      <td>0</td>\n",
       "      <td>fantastisch</td>\n",
       "      <td>185</td>\n",
       "      <td>9789048416547</td>\n",
       "      <td>Young_adult</td>\n",
       "    </tr>\n",
       "    <tr>\n",
       "      <th>1</th>\n",
       "      <td>impfic-work-3723</td>\n",
       "      <td>impfic-review-1</td>\n",
       "      <td>1</td>\n",
       "      <td>0</td>\n",
       "      <td>0</td>\n",
       "      <td>0</td>\n",
       "      <td>fantastisch</td>\n",
       "      <td>185</td>\n",
       "      <td>9789400804876</td>\n",
       "      <td>Young_adult</td>\n",
       "    </tr>\n",
       "  </tbody>\n",
       "</table>\n",
       "</div>"
      ],
      "text/plain": [
       "            work_id        review_id  affect  style  narrative  reflection  \\\n",
       "0  impfic-work-3723  impfic-review-1       1      0          0           0   \n",
       "1  impfic-work-3723  impfic-review-1       1      0          0           0   \n",
       "\n",
       "   impact_term  review_num_words           isbn    nur_genre  \n",
       "0  fantastisch               185  9789048416547  Young_adult  \n",
       "1  fantastisch               185  9789400804876  Young_adult  "
      ]
     },
     "execution_count": 23,
     "metadata": {},
     "output_type": "execute_result"
    }
   ],
   "source": [
    "dt_expanded.head(2)"
   ]
  },
  {
   "cell_type": "markdown",
   "id": "b15b905c-40bc-4dfd-a390-95c837531dc8",
   "metadata": {},
   "source": [
    "#### Merge the reviews with the output of top2vec"
   ]
  },
  {
   "cell_type": "code",
   "execution_count": 24,
   "id": "b2db3f3a-eb18-496a-bcf2-ba46afe2a310",
   "metadata": {},
   "outputs": [],
   "source": [
    "topic_and_reviews = pd.merge(dt_expanded, df, on = 'isbn', how = 'left')"
   ]
  },
  {
   "cell_type": "markdown",
   "id": "15240dea-d4a4-434f-b734-def43ee610b9",
   "metadata": {},
   "source": [
    "This is the result of the merge:"
   ]
  },
  {
   "cell_type": "code",
   "execution_count": 25,
   "id": "6684411b-60f7-46cb-9788-6fb0a7093e5f",
   "metadata": {},
   "outputs": [
    {
     "data": {
      "text/html": [
       "<div>\n",
       "<style scoped>\n",
       "    .dataframe tbody tr th:only-of-type {\n",
       "        vertical-align: middle;\n",
       "    }\n",
       "\n",
       "    .dataframe tbody tr th {\n",
       "        vertical-align: top;\n",
       "    }\n",
       "\n",
       "    .dataframe thead th {\n",
       "        text-align: right;\n",
       "    }\n",
       "</style>\n",
       "<table border=\"1\" class=\"dataframe\">\n",
       "  <thead>\n",
       "    <tr style=\"text-align: right;\">\n",
       "      <th></th>\n",
       "      <th>work_id</th>\n",
       "      <th>review_id</th>\n",
       "      <th>affect</th>\n",
       "      <th>style</th>\n",
       "      <th>narrative</th>\n",
       "      <th>reflection</th>\n",
       "      <th>impact_term</th>\n",
       "      <th>review_num_words</th>\n",
       "      <th>isbn</th>\n",
       "      <th>nur_genre</th>\n",
       "      <th>cosine_distance</th>\n",
       "      <th>topic_position</th>\n",
       "      <th>topic_number</th>\n",
       "      <th>topic_words</th>\n",
       "      <th>topic_vectors</th>\n",
       "      <th>topic_word_vectors</th>\n",
       "    </tr>\n",
       "  </thead>\n",
       "  <tbody>\n",
       "    <tr>\n",
       "      <th>0</th>\n",
       "      <td>impfic-work-3723</td>\n",
       "      <td>impfic-review-1</td>\n",
       "      <td>1</td>\n",
       "      <td>0</td>\n",
       "      <td>0</td>\n",
       "      <td>0</td>\n",
       "      <td>fantastisch</td>\n",
       "      <td>185</td>\n",
       "      <td>9789048416547</td>\n",
       "      <td>Young_adult</td>\n",
       "      <td>NaN</td>\n",
       "      <td>NaN</td>\n",
       "      <td>NaN</td>\n",
       "      <td>NaN</td>\n",
       "      <td>NaN</td>\n",
       "      <td>NaN</td>\n",
       "    </tr>\n",
       "    <tr>\n",
       "      <th>1</th>\n",
       "      <td>impfic-work-3723</td>\n",
       "      <td>impfic-review-1</td>\n",
       "      <td>1</td>\n",
       "      <td>0</td>\n",
       "      <td>0</td>\n",
       "      <td>0</td>\n",
       "      <td>fantastisch</td>\n",
       "      <td>185</td>\n",
       "      <td>9789400804876</td>\n",
       "      <td>Young_adult</td>\n",
       "      <td>NaN</td>\n",
       "      <td>NaN</td>\n",
       "      <td>NaN</td>\n",
       "      <td>NaN</td>\n",
       "      <td>NaN</td>\n",
       "      <td>NaN</td>\n",
       "    </tr>\n",
       "  </tbody>\n",
       "</table>\n",
       "</div>"
      ],
      "text/plain": [
       "            work_id        review_id  affect  style  narrative  reflection  \\\n",
       "0  impfic-work-3723  impfic-review-1       1      0          0           0   \n",
       "1  impfic-work-3723  impfic-review-1       1      0          0           0   \n",
       "\n",
       "   impact_term  review_num_words           isbn    nur_genre  cosine_distance  \\\n",
       "0  fantastisch               185  9789048416547  Young_adult              NaN   \n",
       "1  fantastisch               185  9789400804876  Young_adult              NaN   \n",
       "\n",
       "   topic_position  topic_number topic_words topic_vectors topic_word_vectors  \n",
       "0             NaN           NaN         NaN           NaN                NaN  \n",
       "1             NaN           NaN         NaN           NaN                NaN  "
      ]
     },
     "execution_count": 25,
     "metadata": {},
     "output_type": "execute_result"
    }
   ],
   "source": [
    "topic_and_reviews.head(2)"
   ]
  },
  {
   "cell_type": "markdown",
   "id": "d1db3cbf-9282-48e6-8974-125233f028b1",
   "metadata": {},
   "source": [
    "The dataframe contains many columns which we don't necessarily need for the following steps. So I drop them and make a smaller version of this dataframe with only the info that I need."
   ]
  },
  {
   "cell_type": "code",
   "execution_count": 26,
   "id": "6fd8147b-30ee-4cfb-84fc-c9e5a780c6d5",
   "metadata": {},
   "outputs": [],
   "source": [
    "minimal_topic_reviews = topic_and_reviews[['isbn', 'nur_genre', 'topic_number', 'impact_term' , 'affect', 'style', 'narrative', 'reflection']].drop_duplicates()"
   ]
  },
  {
   "cell_type": "markdown",
   "id": "804b32d5-b9dc-4d79-b6ff-a45cf3f32172",
   "metadata": {},
   "source": [
    "This is our final dataframe:"
   ]
  },
  {
   "cell_type": "code",
   "execution_count": 27,
   "id": "4bee656a-6524-4b27-bcfd-01cf2d8bb35f",
   "metadata": {},
   "outputs": [
    {
     "data": {
      "text/html": [
       "<div>\n",
       "<style scoped>\n",
       "    .dataframe tbody tr th:only-of-type {\n",
       "        vertical-align: middle;\n",
       "    }\n",
       "\n",
       "    .dataframe tbody tr th {\n",
       "        vertical-align: top;\n",
       "    }\n",
       "\n",
       "    .dataframe thead th {\n",
       "        text-align: right;\n",
       "    }\n",
       "</style>\n",
       "<table border=\"1\" class=\"dataframe\">\n",
       "  <thead>\n",
       "    <tr style=\"text-align: right;\">\n",
       "      <th></th>\n",
       "      <th>isbn</th>\n",
       "      <th>nur_genre</th>\n",
       "      <th>topic_number</th>\n",
       "      <th>impact_term</th>\n",
       "      <th>affect</th>\n",
       "      <th>style</th>\n",
       "      <th>narrative</th>\n",
       "      <th>reflection</th>\n",
       "    </tr>\n",
       "  </thead>\n",
       "  <tbody>\n",
       "    <tr>\n",
       "      <th>0</th>\n",
       "      <td>9789048416547</td>\n",
       "      <td>Young_adult</td>\n",
       "      <td>NaN</td>\n",
       "      <td>fantastisch</td>\n",
       "      <td>1</td>\n",
       "      <td>0</td>\n",
       "      <td>0</td>\n",
       "      <td>0</td>\n",
       "    </tr>\n",
       "    <tr>\n",
       "      <th>1</th>\n",
       "      <td>9789400804876</td>\n",
       "      <td>Young_adult</td>\n",
       "      <td>NaN</td>\n",
       "      <td>fantastisch</td>\n",
       "      <td>1</td>\n",
       "      <td>0</td>\n",
       "      <td>0</td>\n",
       "      <td>0</td>\n",
       "    </tr>\n",
       "  </tbody>\n",
       "</table>\n",
       "</div>"
      ],
      "text/plain": [
       "            isbn    nur_genre  topic_number  impact_term  affect  style  \\\n",
       "0  9789048416547  Young_adult           NaN  fantastisch       1      0   \n",
       "1  9789400804876  Young_adult           NaN  fantastisch       1      0   \n",
       "\n",
       "   narrative  reflection  \n",
       "0          0           0  \n",
       "1          0           0  "
      ]
     },
     "execution_count": 27,
     "metadata": {},
     "output_type": "execute_result"
    }
   ],
   "source": [
    "minimal_topic_reviews.head(2)"
   ]
  },
  {
   "cell_type": "markdown",
   "id": "d298fbf9-0d3e-432e-8a5c-4a3bdda3d3ee",
   "metadata": {},
   "source": [
    "#### Add themes"
   ]
  },
  {
   "cell_type": "markdown",
   "id": "b9cee462-91c8-44d7-beb8-03956c5e70f4",
   "metadata": {},
   "source": [
    "Below our topic-to-theme mapping:"
   ]
  },
  {
   "cell_type": "code",
   "execution_count": 28,
   "id": "5ffdd9da-bea8-4e6b-8055-9e7a0d1cc776",
   "metadata": {},
   "outputs": [],
   "source": [
    "genre_topic_mapping = {\n",
    "    'Romance and sex': [0, 1, 10, 12, 28, 45, 51, 93],\n",
    "    'Wildlife / nature': [21, 33, 56, 65, 76, 90],\n",
    "    'Behaviours / feelings': [2, 12, 13, 20, 18, 41, 42, 54, 59, 68, 93],\n",
    "    'Medicine / health': [3, 20, 72],\n",
    "    'School': [18, 42],\n",
    "    'Arts': [7, 13, 14, 24, 40, 41, 46, 48, 49, 50, 53],\n",
    "    'Culture': [4, 8, 10, 11, 13, 14, 15, 17, 19, 21, 29, 33, 34, 35, 38, 39, 43, 44, 47, 53, 58, 59, 65, 79, 84],\n",
    "    'Geography and setting': [5, 17, 19, 21, 29, 38, 31, 32, 33, 34, 35, 38, 43, 47, 48, 53, 54, 61, 64, 74, 77, 79, 82, 85, 88, 89, 92, 93, 94],\n",
    "    'Law': [6, 7, 39, 75, 80, 81, 89],\n",
    "    'Crime': [6, 15, 16, 25, 39, 55, 62, 63, 73, 75, 78, 94],\n",
    "    'History': [8, 9, 11, 16, 22, 26, 47, 53, 70, 71, 74, 77, 80],\n",
    "    'War': [8, 9, 22, 31, 34, 55, 62, 63, 70, 71, 76, 80, 81, 86],\n",
    "    'Religion, spirituality and philosophy': [27, 30, 34, 66, 87],\n",
    "    'Politics': [23, 32, 36, 79, 80],\n",
    "    'Lifestyle and sport': [33, 38, 49, 52, 57, 90],\n",
    "    'Supernatural, fantasy and sci-fi': [37, 60, 69, 91, 83],\n",
    "    'Other': [24, 46, 67, 76, 83]\n",
    "}"
   ]
  },
  {
   "cell_type": "markdown",
   "id": "ba4489ba-6dd3-4607-a4c6-0a054ca8fb57",
   "metadata": {},
   "source": [
    "I transform the above into a dataframe so that's easier to work with."
   ]
  },
  {
   "cell_type": "code",
   "execution_count": 29,
   "id": "c3ba9538-9f8a-461b-a675-1a6337b1397a",
   "metadata": {},
   "outputs": [
    {
     "data": {
      "text/html": [
       "<div>\n",
       "<style scoped>\n",
       "    .dataframe tbody tr th:only-of-type {\n",
       "        vertical-align: middle;\n",
       "    }\n",
       "\n",
       "    .dataframe tbody tr th {\n",
       "        vertical-align: top;\n",
       "    }\n",
       "\n",
       "    .dataframe thead th {\n",
       "        text-align: right;\n",
       "    }\n",
       "</style>\n",
       "<table border=\"1\" class=\"dataframe\">\n",
       "  <thead>\n",
       "    <tr style=\"text-align: right;\">\n",
       "      <th></th>\n",
       "      <th>category</th>\n",
       "      <th>topic_number</th>\n",
       "    </tr>\n",
       "  </thead>\n",
       "  <tbody>\n",
       "    <tr>\n",
       "      <th>0</th>\n",
       "      <td>Romance and sex</td>\n",
       "      <td>0</td>\n",
       "    </tr>\n",
       "    <tr>\n",
       "      <th>1</th>\n",
       "      <td>Romance and sex</td>\n",
       "      <td>1</td>\n",
       "    </tr>\n",
       "    <tr>\n",
       "      <th>2</th>\n",
       "      <td>Romance and sex</td>\n",
       "      <td>10</td>\n",
       "    </tr>\n",
       "    <tr>\n",
       "      <th>3</th>\n",
       "      <td>Romance and sex</td>\n",
       "      <td>12</td>\n",
       "    </tr>\n",
       "    <tr>\n",
       "      <th>4</th>\n",
       "      <td>Romance and sex</td>\n",
       "      <td>28</td>\n",
       "    </tr>\n",
       "    <tr>\n",
       "      <th>...</th>\n",
       "      <td>...</td>\n",
       "      <td>...</td>\n",
       "    </tr>\n",
       "    <tr>\n",
       "      <th>162</th>\n",
       "      <td>Other</td>\n",
       "      <td>24</td>\n",
       "    </tr>\n",
       "    <tr>\n",
       "      <th>163</th>\n",
       "      <td>Other</td>\n",
       "      <td>46</td>\n",
       "    </tr>\n",
       "    <tr>\n",
       "      <th>164</th>\n",
       "      <td>Other</td>\n",
       "      <td>67</td>\n",
       "    </tr>\n",
       "    <tr>\n",
       "      <th>165</th>\n",
       "      <td>Other</td>\n",
       "      <td>76</td>\n",
       "    </tr>\n",
       "    <tr>\n",
       "      <th>166</th>\n",
       "      <td>Other</td>\n",
       "      <td>83</td>\n",
       "    </tr>\n",
       "  </tbody>\n",
       "</table>\n",
       "<p>167 rows × 2 columns</p>\n",
       "</div>"
      ],
      "text/plain": [
       "            category  topic_number\n",
       "0    Romance and sex             0\n",
       "1    Romance and sex             1\n",
       "2    Romance and sex            10\n",
       "3    Romance and sex            12\n",
       "4    Romance and sex            28\n",
       "..               ...           ...\n",
       "162            Other            24\n",
       "163            Other            46\n",
       "164            Other            67\n",
       "165            Other            76\n",
       "166            Other            83\n",
       "\n",
       "[167 rows x 2 columns]"
      ]
     },
     "execution_count": 29,
     "metadata": {},
     "output_type": "execute_result"
    }
   ],
   "source": [
    "genres = []\n",
    "topics = []\n",
    "\n",
    "for genre, topic_list in genre_topic_mapping.items():\n",
    "    for topic in topic_list:\n",
    "        genres.append(genre)\n",
    "        topics.append(topic)\n",
    "\n",
    "topic_categories = pd.DataFrame({\n",
    "    'category': genres,\n",
    "    'topic_number': topics\n",
    "})\n",
    "\n",
    "topic_categories"
   ]
  },
  {
   "cell_type": "code",
   "execution_count": 30,
   "id": "a2372e47-e235-4ab5-b03c-945285b3e3bc",
   "metadata": {},
   "outputs": [],
   "source": [
    "# check that all topics have a corresponding thematic\n",
    "\n",
    "all_topics = list(range(0, 95))\n",
    "provided_topics = [topic for sublist in genre_topic_mapping.values() for topic in sublist]\n",
    "\n",
    "missing_topics = [topic for topic in all_topics if topic not in provided_topics]"
   ]
  },
  {
   "cell_type": "code",
   "execution_count": 31,
   "id": "168920f1-e778-4eee-ae9d-b1351d2ef518",
   "metadata": {},
   "outputs": [
    {
     "name": "stdout",
     "output_type": "stream",
     "text": [
      "Do all topics have a corresponding thematic? True\n"
     ]
    }
   ],
   "source": [
    "print(f'Do all topics have a corresponding thematic? {not missing_topics}')"
   ]
  },
  {
   "cell_type": "markdown",
   "id": "4267612e-5109-4165-b102-161f384bdb13",
   "metadata": {},
   "source": [
    "How many topics per theme?"
   ]
  },
  {
   "cell_type": "code",
   "execution_count": 32,
   "id": "36c76c37-610e-4165-ab96-80ccd6eba4a9",
   "metadata": {},
   "outputs": [
    {
     "data": {
      "text/html": [
       "<div>\n",
       "<style scoped>\n",
       "    .dataframe tbody tr th:only-of-type {\n",
       "        vertical-align: middle;\n",
       "    }\n",
       "\n",
       "    .dataframe tbody tr th {\n",
       "        vertical-align: top;\n",
       "    }\n",
       "\n",
       "    .dataframe thead th {\n",
       "        text-align: right;\n",
       "    }\n",
       "</style>\n",
       "<table border=\"1\" class=\"dataframe\">\n",
       "  <thead>\n",
       "    <tr style=\"text-align: right;\">\n",
       "      <th></th>\n",
       "      <th>category</th>\n",
       "      <th>topic_number</th>\n",
       "    </tr>\n",
       "  </thead>\n",
       "  <tbody>\n",
       "    <tr>\n",
       "      <th>0</th>\n",
       "      <td>Arts</td>\n",
       "      <td>11</td>\n",
       "    </tr>\n",
       "    <tr>\n",
       "      <th>1</th>\n",
       "      <td>Behaviours / feelings</td>\n",
       "      <td>11</td>\n",
       "    </tr>\n",
       "    <tr>\n",
       "      <th>2</th>\n",
       "      <td>Crime</td>\n",
       "      <td>12</td>\n",
       "    </tr>\n",
       "    <tr>\n",
       "      <th>3</th>\n",
       "      <td>Culture</td>\n",
       "      <td>25</td>\n",
       "    </tr>\n",
       "    <tr>\n",
       "      <th>4</th>\n",
       "      <td>Geography and setting</td>\n",
       "      <td>28</td>\n",
       "    </tr>\n",
       "    <tr>\n",
       "      <th>5</th>\n",
       "      <td>History</td>\n",
       "      <td>13</td>\n",
       "    </tr>\n",
       "    <tr>\n",
       "      <th>6</th>\n",
       "      <td>Law</td>\n",
       "      <td>7</td>\n",
       "    </tr>\n",
       "    <tr>\n",
       "      <th>7</th>\n",
       "      <td>Lifestyle and sport</td>\n",
       "      <td>6</td>\n",
       "    </tr>\n",
       "    <tr>\n",
       "      <th>8</th>\n",
       "      <td>Medicine / health</td>\n",
       "      <td>3</td>\n",
       "    </tr>\n",
       "    <tr>\n",
       "      <th>9</th>\n",
       "      <td>Other</td>\n",
       "      <td>5</td>\n",
       "    </tr>\n",
       "    <tr>\n",
       "      <th>10</th>\n",
       "      <td>Politics</td>\n",
       "      <td>5</td>\n",
       "    </tr>\n",
       "    <tr>\n",
       "      <th>11</th>\n",
       "      <td>Religion, spirituality and philosophy</td>\n",
       "      <td>5</td>\n",
       "    </tr>\n",
       "    <tr>\n",
       "      <th>12</th>\n",
       "      <td>Romance and sex</td>\n",
       "      <td>8</td>\n",
       "    </tr>\n",
       "    <tr>\n",
       "      <th>13</th>\n",
       "      <td>School</td>\n",
       "      <td>2</td>\n",
       "    </tr>\n",
       "    <tr>\n",
       "      <th>14</th>\n",
       "      <td>Supernatural, fantasy and sci-fi</td>\n",
       "      <td>5</td>\n",
       "    </tr>\n",
       "    <tr>\n",
       "      <th>15</th>\n",
       "      <td>War</td>\n",
       "      <td>14</td>\n",
       "    </tr>\n",
       "    <tr>\n",
       "      <th>16</th>\n",
       "      <td>Wildlife / nature</td>\n",
       "      <td>6</td>\n",
       "    </tr>\n",
       "  </tbody>\n",
       "</table>\n",
       "</div>"
      ],
      "text/plain": [
       "                                 category  topic_number\n",
       "0                                    Arts            11\n",
       "1                   Behaviours / feelings            11\n",
       "2                                   Crime            12\n",
       "3                                 Culture            25\n",
       "4                   Geography and setting            28\n",
       "5                                 History            13\n",
       "6                                     Law             7\n",
       "7                     Lifestyle and sport             6\n",
       "8                       Medicine / health             3\n",
       "9                                   Other             5\n",
       "10                               Politics             5\n",
       "11  Religion, spirituality and philosophy             5\n",
       "12                        Romance and sex             8\n",
       "13                                 School             2\n",
       "14       Supernatural, fantasy and sci-fi             5\n",
       "15                                    War            14\n",
       "16                      Wildlife / nature             6"
      ]
     },
     "execution_count": 32,
     "metadata": {},
     "output_type": "execute_result"
    }
   ],
   "source": [
    "# Count the number of topics per thematic category\n",
    "topic_categories.groupby(['category']).agg({\n",
    "    'topic_number': 'nunique'\n",
    "}).reset_index()"
   ]
  },
  {
   "cell_type": "markdown",
   "id": "dfcf707a-32ee-4b72-a08d-178802c50d65",
   "metadata": {},
   "source": [
    "#### Prepare dataset to produce circular histograms."
   ]
  },
  {
   "cell_type": "markdown",
   "id": "4b391a45-3c27-4a0d-96cf-8da8bfefc296",
   "metadata": {},
   "source": [
    "Books may have multiple topics, so we count proportions of each topic in a document. "
   ]
  },
  {
   "cell_type": "code",
   "execution_count": 33,
   "id": "8e4ee66d-d95a-4058-ae3c-bf777f501f79",
   "metadata": {},
   "outputs": [],
   "source": [
    "topic_proportions = [sim for idx, sim in zip(document_topic, topics_distance)]"
   ]
  },
  {
   "cell_type": "code",
   "execution_count": 34,
   "id": "138214e7-e85f-43b6-9446-c68e66220a17",
   "metadata": {},
   "outputs": [],
   "source": [
    "flat_topic_proportions = [item for sublist in topic_proportions for item in sublist]"
   ]
  },
  {
   "cell_type": "code",
   "execution_count": 35,
   "id": "4df0f9c0-2e4e-4d6f-9c48-0ca21eb41bff",
   "metadata": {},
   "outputs": [],
   "source": [
    "df_minimal = df[['isbn','topic_number']].drop_duplicates()"
   ]
  },
  {
   "cell_type": "code",
   "execution_count": 37,
   "id": "74b883b3-b3e2-4635-94be-369aeca6763d",
   "metadata": {},
   "outputs": [],
   "source": [
    "df_minimal['topic_proportion'] = flat_topic_proportions"
   ]
  },
  {
   "cell_type": "markdown",
   "id": "0d90b9d5-2754-4ea6-b991-c65430ff207f",
   "metadata": {},
   "source": [
    "These are our proportions:"
   ]
  },
  {
   "cell_type": "code",
   "execution_count": 38,
   "id": "245b7327-0a0b-4d4a-a69a-1b623a10a6db",
   "metadata": {},
   "outputs": [
    {
     "data": {
      "text/html": [
       "<div>\n",
       "<style scoped>\n",
       "    .dataframe tbody tr th:only-of-type {\n",
       "        vertical-align: middle;\n",
       "    }\n",
       "\n",
       "    .dataframe tbody tr th {\n",
       "        vertical-align: top;\n",
       "    }\n",
       "\n",
       "    .dataframe thead th {\n",
       "        text-align: right;\n",
       "    }\n",
       "</style>\n",
       "<table border=\"1\" class=\"dataframe\">\n",
       "  <thead>\n",
       "    <tr style=\"text-align: right;\">\n",
       "      <th></th>\n",
       "      <th>isbn</th>\n",
       "      <th>topic_number</th>\n",
       "      <th>topic_proportion</th>\n",
       "    </tr>\n",
       "  </thead>\n",
       "  <tbody>\n",
       "    <tr>\n",
       "      <th>0</th>\n",
       "      <td>9789402522297</td>\n",
       "      <td>0</td>\n",
       "      <td>0.267482</td>\n",
       "    </tr>\n",
       "    <tr>\n",
       "      <th>1</th>\n",
       "      <td>9789402522297</td>\n",
       "      <td>40</td>\n",
       "      <td>0.197697</td>\n",
       "    </tr>\n",
       "  </tbody>\n",
       "</table>\n",
       "</div>"
      ],
      "text/plain": [
       "            isbn  topic_number  topic_proportion\n",
       "0  9789402522297             0          0.267482\n",
       "1  9789402522297            40          0.197697"
      ]
     },
     "execution_count": 38,
     "metadata": {},
     "output_type": "execute_result"
    }
   ],
   "source": [
    "df_minimal.head(2)"
   ]
  },
  {
   "cell_type": "markdown",
   "id": "9ae1a24f-9f38-4d44-a777-a380cdb78c0e",
   "metadata": {},
   "source": [
    "We add this info in the main dataframe:"
   ]
  },
  {
   "cell_type": "code",
   "execution_count": 39,
   "id": "86bf800a-b9b2-41d9-8dc6-a844c0c5f6fb",
   "metadata": {},
   "outputs": [],
   "source": [
    "df_categories_proportions = pd.merge(df_minimal, topic_categories, on = 'topic_number', how='left')"
   ]
  },
  {
   "cell_type": "code",
   "execution_count": 41,
   "id": "5dab5c6c-411d-443b-9ff5-1d6563957062",
   "metadata": {},
   "outputs": [],
   "source": [
    "dt_expanded_minimal = dt_expanded[['isbn', 'nur_genre']]"
   ]
  },
  {
   "cell_type": "code",
   "execution_count": 43,
   "id": "23cff056-7c1e-4128-8ea0-74fee438ccfd",
   "metadata": {},
   "outputs": [],
   "source": [
    "df_categories_proportions_nur = pd.merge(df_categories_proportions, dt_expanded_minimal, on = 'isbn', how='left')"
   ]
  },
  {
   "cell_type": "markdown",
   "id": "468f0e77-b626-48bd-bf83-dd9ad09a55f6",
   "metadata": {},
   "source": [
    "This is the final dataset used to create the circular histograms:"
   ]
  },
  {
   "cell_type": "code",
   "execution_count": 45,
   "id": "d23a94fb-5f61-4ef0-ae6c-d3715763432b",
   "metadata": {},
   "outputs": [
    {
     "data": {
      "text/html": [
       "<div>\n",
       "<style scoped>\n",
       "    .dataframe tbody tr th:only-of-type {\n",
       "        vertical-align: middle;\n",
       "    }\n",
       "\n",
       "    .dataframe tbody tr th {\n",
       "        vertical-align: top;\n",
       "    }\n",
       "\n",
       "    .dataframe thead th {\n",
       "        text-align: right;\n",
       "    }\n",
       "</style>\n",
       "<table border=\"1\" class=\"dataframe\">\n",
       "  <thead>\n",
       "    <tr style=\"text-align: right;\">\n",
       "      <th></th>\n",
       "      <th>isbn</th>\n",
       "      <th>topic_number</th>\n",
       "      <th>topic_proportion</th>\n",
       "      <th>category</th>\n",
       "      <th>nur_genre</th>\n",
       "    </tr>\n",
       "  </thead>\n",
       "  <tbody>\n",
       "    <tr>\n",
       "      <th>0</th>\n",
       "      <td>9789402522297</td>\n",
       "      <td>0</td>\n",
       "      <td>0.267482</td>\n",
       "      <td>Romance and sex</td>\n",
       "      <td>NaN</td>\n",
       "    </tr>\n",
       "    <tr>\n",
       "      <th>1</th>\n",
       "      <td>9789402522297</td>\n",
       "      <td>40</td>\n",
       "      <td>0.197697</td>\n",
       "      <td>Arts</td>\n",
       "      <td>NaN</td>\n",
       "    </tr>\n",
       "  </tbody>\n",
       "</table>\n",
       "</div>"
      ],
      "text/plain": [
       "            isbn  topic_number  topic_proportion         category nur_genre\n",
       "0  9789402522297             0          0.267482  Romance and sex       NaN\n",
       "1  9789402522297            40          0.197697             Arts       NaN"
      ]
     },
     "execution_count": 45,
     "metadata": {},
     "output_type": "execute_result"
    }
   ],
   "source": [
    "df_categories_proportions_nur.head(2)"
   ]
  },
  {
   "cell_type": "markdown",
   "id": "9d04de5f-5124-4143-ac05-815944eb866b",
   "metadata": {},
   "source": [
    "This dataframe is used later on for producing the circular histograms. These figures are rendered in R because the graphical capabilities of this software allows more flexibility for producing plots.\n",
    "\n",
    "The code to reproduce the circular plots in R present in the paper is `plot_circular_histograms.R`. It takes as input `circular_histograms_data.csv` and it saves automatically the plots."
   ]
  },
  {
   "cell_type": "code",
   "execution_count": 46,
   "id": "9be09d7b-eda2-4f17-851e-496444aa8c0e",
   "metadata": {},
   "outputs": [],
   "source": [
    "df_categories_proportions_nur.to_csv('circular_histograms_data.csv', index=False)"
   ]
  }
 ],
 "metadata": {
  "kernelspec": {
   "display_name": "Python 3 (ipykernel)",
   "language": "python",
   "name": "python3"
  },
  "language_info": {
   "codemirror_mode": {
    "name": "ipython",
    "version": 3
   },
   "file_extension": ".py",
   "mimetype": "text/x-python",
   "name": "python",
   "nbconvert_exporter": "python",
   "pygments_lexer": "ipython3",
   "version": "3.9.16"
  }
 },
 "nbformat": 4,
 "nbformat_minor": 5
}
