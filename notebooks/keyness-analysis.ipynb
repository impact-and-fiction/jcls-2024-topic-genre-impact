{
 "cells": [
  {
   "cell_type": "markdown",
   "id": "c5296084-e0e3-4a69-896f-97e606c5e013",
   "metadata": {},
   "source": [
    "# Keyness analysis"
   ]
  },
  {
   "cell_type": "code",
   "execution_count": 1,
   "id": "05e93aa7-e94c-4eb2-bfd9-316e07b46bdc",
   "metadata": {},
   "outputs": [
    {
     "name": "stderr",
     "output_type": "stream",
     "text": [
      "/Users/marijnkoolen/.local/share/virtualenvs/fuzzy-search-KYi4BGOl/lib/python3.10/site-packages/umap/distances.py:1063: NumbaDeprecationWarning: The 'nopython' keyword argument was not supplied to the 'numba.jit' decorator. The implicit default value for this argument is currently False, but it will be changed to True in Numba 0.59.0. See https://numba.readthedocs.io/en/stable/reference/deprecation.html#deprecation-of-object-mode-fall-back-behaviour-when-using-jit for details.\n",
      "  @numba.jit()\n",
      "/Users/marijnkoolen/.local/share/virtualenvs/fuzzy-search-KYi4BGOl/lib/python3.10/site-packages/umap/distances.py:1071: NumbaDeprecationWarning: The 'nopython' keyword argument was not supplied to the 'numba.jit' decorator. The implicit default value for this argument is currently False, but it will be changed to True in Numba 0.59.0. See https://numba.readthedocs.io/en/stable/reference/deprecation.html#deprecation-of-object-mode-fall-back-behaviour-when-using-jit for details.\n",
      "  @numba.jit()\n",
      "/Users/marijnkoolen/.local/share/virtualenvs/fuzzy-search-KYi4BGOl/lib/python3.10/site-packages/umap/distances.py:1086: NumbaDeprecationWarning: The 'nopython' keyword argument was not supplied to the 'numba.jit' decorator. The implicit default value for this argument is currently False, but it will be changed to True in Numba 0.59.0. See https://numba.readthedocs.io/en/stable/reference/deprecation.html#deprecation-of-object-mode-fall-back-behaviour-when-using-jit for details.\n",
      "  @numba.jit()\n",
      "/Users/marijnkoolen/.local/share/virtualenvs/fuzzy-search-KYi4BGOl/lib/python3.10/site-packages/umap/umap_.py:660: NumbaDeprecationWarning: The 'nopython' keyword argument was not supplied to the 'numba.jit' decorator. The implicit default value for this argument is currently False, but it will be changed to True in Numba 0.59.0. See https://numba.readthedocs.io/en/stable/reference/deprecation.html#deprecation-of-object-mode-fall-back-behaviour-when-using-jit for details.\n",
      "  @numba.jit()\n"
     ]
    }
   ],
   "source": [
    "import numpy as np\n",
    "import pandas as pd\n",
    "import seaborn as sns\n",
    "from top2vec import Top2Vec\n",
    "from scipy.spatial.distance import cosine \n",
    "import matplotlib.pyplot as plt\n",
    "import matplotlib.colors as mcolors\n",
    "import sys\n",
    "from tqdm import tqdm\n",
    "\n",
    "from src.topic_summary import ModelAnalyser, NurGenreMapper, ReviewExtractor"
   ]
  },
  {
   "cell_type": "markdown",
   "id": "62542fb6-b1ec-4804-8ad2-8dac88f85779",
   "metadata": {},
   "source": [
    "#### Set paths and load functions"
   ]
  },
  {
   "cell_type": "code",
   "execution_count": 2,
   "id": "ac867089-1b2e-453d-bce6-908922790f80",
   "metadata": {},
   "outputs": [],
   "source": [
    "# please adjust the following paths to reflect the location of the following files in your local directory\n",
    "\n",
    "review_dir = '../../models/reviews/review-impact_matches.tsv.gz'\n",
    "raw_review_data = '../../models/reviews/reviews-stats.tsv.gz'\n",
    "isbn_map = \"../../data/work-isbn-mapping.tsv\"\n",
    "isbn_work_id_mappings_file = \"../../data/work_isbn_genre.tsv\"\n",
    "\n",
    "impact_file = '../data/review-impact_matches.tsv.gz'\n",
    "raw_review_data = '../data/reviews-stats.tsv.gz'\n",
    "isbn_map = \"../data/work-isbn-mapping.tsv\"\n",
    "isbn_work_id_mappings_file = \"../data/work_isbn_title_genre.tsv.gz\""
   ]
  },
  {
   "cell_type": "markdown",
   "id": "e7e05f4e-c708-4e55-9003-faaa0d955b53",
   "metadata": {},
   "source": [
    "#### Load custom-made classes from `topic_summary.py`"
   ]
  },
  {
   "cell_type": "code",
   "execution_count": 3,
   "id": "fec4c6ae-7ac3-40cc-a2c7-c27dfbe00d7c",
   "metadata": {},
   "outputs": [],
   "source": [
    "# this class helps to preprocess the inputs and output a genre mapping file\n",
    "mapper = NurGenreMapper(isbn_map, isbn_work_id_mappings_file)\n",
    "\n",
    "# this class produces as output the impact_reviews\n",
    "extractor = ReviewExtractor(impact_file, raw_review_data)"
   ]
  },
  {
   "cell_type": "markdown",
   "id": "65e63124-17b3-4a3f-aba2-44950f5a3c3f",
   "metadata": {},
   "source": [
    "##### `map_function` Identifies for each word, the impact that has the maximum value (if the word has multiple mappings), and thus the prevalent impact."
   ]
  },
  {
   "cell_type": "code",
   "execution_count": 4,
   "id": "622583fc-11f6-4711-a0b5-1fb16d4f6560",
   "metadata": {},
   "outputs": [],
   "source": [
    "def map_function(row):\n",
    "    \"\"\"\n",
    "    Identifies and returns the column names with the maximum value in a subset of the given row. \n",
    "\n",
    "    This function processes a row of a dataframe. It focuses on the columns \n",
    "    'affect', 'style', 'narrative' and 'reflection'. Among these columns, it identifies the one(s) \n",
    "    with the maximum value in the row. If multiple columns share the same maximum value, \n",
    "    their names are concatenated and returned as a string separated by slashes.\n",
    "\n",
    "    Parameters:\n",
    "    - row (pd.Series): A row of a pandas DataFrame, expected to contain the columns \n",
    "                     'affect', 'style', 'narrative', and 'reflection'.\n",
    "\n",
    "    Returns:\n",
    "    - str: A string representing the column name(s) with the maximum value in the specified subset of columns. \n",
    "         If there are multiple columns with the same maximum value, their names are concatenated and \n",
    "         separated by slashes.\n",
    "    \"\"\"\n",
    "    col_names = ['affect', 'style', 'narrative', 'reflection']\n",
    "    row_subset = row[col_names]\n",
    "    max_value = row_subset.max()\n",
    "    prevalent_columns = list(row_subset.index[row_subset==max_value])\n",
    "    return \"/\".join(prevalent_columns)"
   ]
  },
  {
   "cell_type": "markdown",
   "id": "5da21339-342f-4d3c-8f9d-1d13823a1650",
   "metadata": {},
   "source": [
    "##### `compute_keyness` computes the keyness score for each word-genre pair according to the formula present in the paper, section `Data and Method` - `Keyness analysis on impact terms` subsection"
   ]
  },
  {
   "cell_type": "code",
   "execution_count": 5,
   "id": "f8c4f2f5-672e-415c-9bf5-25ac06043258",
   "metadata": {},
   "outputs": [],
   "source": [
    "def compute_keyness(df: pd.DataFrame, key_column: str) -> pd.DataFrame:\n",
    "    \"\"\"\n",
    "    Compute the keyness score for each word-genre pair in a DataFrame.\n",
    "    Note that this function takes into consideration also the size of the subsets in several ways:\n",
    "    - in NF_W and NF_WC, by dividing the count of each 'impact_term' in a given key column \n",
    "    by the total count of words in that key column (total_words_per_key), \n",
    "    it accounts for the relative size of each category. This normalization step ensures that the \n",
    "    frequency of terms is comparable across different categories, \n",
    "    regardless of the actual size of each category. Moreover, in the keyness (i.e., log likelihood of the ratio of NF_W to NF_WC) \n",
    "    This comparison inherently takes into account the size differences between the subsets (categories) \n",
    "    and the entire corpus\n",
    "    \n",
    "    Parameters:\n",
    "    - df_expanded: A pandas DataFrame containing the columns 'impact_term' and + key column.\n",
    "    - genre_column: The name of the column in df_expanded that contains the genre or category information.\n",
    "    \n",
    "    Returns:\n",
    "    - A pandas DataFrame with columns ['key_column', 'impact_term', 'NF_W', 'NF_WC', 'Keyness']\n",
    "      representing the genre, the impact term, normalized frequency within the key column, normalized frequency\n",
    "      in corpus, and the keyness score respectively.\n",
    "    \"\"\"\n",
    "\n",
    "    # Count how many times each word appears in each key_column\n",
    "    word_counts_per_key = df.groupby([key_column, 'impact_term']).size()\n",
    "\n",
    "    # Count the total number of words in each key_column\n",
    "    total_words_per_key = df.groupby(key_column)['impact_term'].count()\n",
    "\n",
    "    # Compute normalised frequency for each word in the key_column\n",
    "    NF_W = word_counts_per_key / total_words_per_key\n",
    "    NF_W_reset = NF_W.reset_index().rename(columns={0: 'NF_W'})\n",
    "\n",
    "    # Count how many times each word appears in the corpus\n",
    "    word_counts_corpus = df['impact_term'].value_counts()\n",
    "\n",
    "    # Compute the total number of words in the corpus\n",
    "    total_words_corpus = df['impact_term'].count()\n",
    "\n",
    "    # Compute normalised frequency of impact words in the corpus\n",
    "    NF_WC = word_counts_corpus / total_words_corpus\n",
    "    NF_WC_reset = NF_WC.reset_index().rename(columns={'index': 'impact_term', 'impact_term': 'NF_WC'})\n",
    "\n",
    "    # Merge the two dataframes based on the 'impact_term' column\n",
    "    df_keyness = NF_W_reset.merge(NF_WC_reset, on='impact_term', how='left')\n",
    "\n",
    "    # Compute keyness - use log likelihood\n",
    "    df_keyness['Keyness'] = np.log(df_keyness['NF_W'] / df_keyness['NF_WC']).replace([np.inf, -np.inf], np.nan)\n",
    "\n",
    "    # Drop rows with nan values (which occur if NF_W or NF_WC is 0)\n",
    "    df_keyness.dropna(subset=['Keyness'], inplace=True)\n",
    "\n",
    "    return df_keyness"
   ]
  },
  {
   "cell_type": "markdown",
   "id": "3dbd15c0-9ebd-4aee-8d98-dbe09deb2243",
   "metadata": {},
   "source": [
    "#### Prepare dataset"
   ]
  },
  {
   "cell_type": "markdown",
   "id": "4d8c3074-569b-4937-b911-88a70f9af9a3",
   "metadata": {},
   "source": [
    "In this section we need to put together multiple datasets containing the mapping between words and isbns, and the relative reviews. \n",
    "To this end, I made custom-made classes that handle the multiple steps under the hood. These classes are provided in the `src` folder, `topic_summary.py` file."
   ]
  },
  {
   "cell_type": "code",
   "execution_count": 6,
   "id": "ffbf5444-97c2-4c32-bcf0-95ce7216ad34",
   "metadata": {},
   "outputs": [],
   "source": [
    "# get the mapping file which contains `word_id` and `isbn` columns. These are necessary to merge the reviews\n",
    "mapped_df = mapper.process_genre_mapping()\n",
    "\n",
    "# this is our impact reviews dataset:\n",
    "reviews = extractor.get_impact_reviews()\n",
    "\n",
    "# NB. left-join is the best way to merge the files without losing data\n",
    "reviews_merged_with_genre = pd.merge(reviews, mapped_df, on = 'work_id', how = 'left')"
   ]
  },
  {
   "cell_type": "markdown",
   "id": "c0832a58-9dff-4755-90e4-62b13c7b85b3",
   "metadata": {},
   "source": [
    "Dataset consists of impact terms extracted from the reviews of books by the impact model and scored according to affect, style, narrative and reflection. "
   ]
  },
  {
   "cell_type": "code",
   "execution_count": 7,
   "id": "6d380024-0369-4238-9d94-65b1d70e892d",
   "metadata": {},
   "outputs": [],
   "source": [
    "dt = reviews_merged_with_genre"
   ]
  },
  {
   "cell_type": "code",
   "execution_count": 8,
   "id": "05d40af9-200c-4e73-9a09-68742cc08e97",
   "metadata": {},
   "outputs": [
    {
     "data": {
      "text/html": [
       "<div>\n",
       "<style scoped>\n",
       "    .dataframe tbody tr th:only-of-type {\n",
       "        vertical-align: middle;\n",
       "    }\n",
       "\n",
       "    .dataframe tbody tr th {\n",
       "        vertical-align: top;\n",
       "    }\n",
       "\n",
       "    .dataframe thead th {\n",
       "        text-align: right;\n",
       "    }\n",
       "</style>\n",
       "<table border=\"1\" class=\"dataframe\">\n",
       "  <thead>\n",
       "    <tr style=\"text-align: right;\">\n",
       "      <th></th>\n",
       "      <th>work_id</th>\n",
       "      <th>review_id</th>\n",
       "      <th>affect</th>\n",
       "      <th>style</th>\n",
       "      <th>narrative</th>\n",
       "      <th>reflection</th>\n",
       "      <th>impact_term</th>\n",
       "      <th>review_num_words</th>\n",
       "      <th>isbn</th>\n",
       "      <th>nur_genre</th>\n",
       "    </tr>\n",
       "  </thead>\n",
       "  <tbody>\n",
       "    <tr>\n",
       "      <th>0</th>\n",
       "      <td>impfic-work-3723</td>\n",
       "      <td>impfic-review-1</td>\n",
       "      <td>1</td>\n",
       "      <td>0</td>\n",
       "      <td>0</td>\n",
       "      <td>0</td>\n",
       "      <td>fantastisch</td>\n",
       "      <td>185</td>\n",
       "      <td>9789048416547</td>\n",
       "      <td>Young_adult</td>\n",
       "    </tr>\n",
       "    <tr>\n",
       "      <th>1</th>\n",
       "      <td>impfic-work-3723</td>\n",
       "      <td>impfic-review-1</td>\n",
       "      <td>1</td>\n",
       "      <td>0</td>\n",
       "      <td>0</td>\n",
       "      <td>0</td>\n",
       "      <td>fantastisch</td>\n",
       "      <td>185</td>\n",
       "      <td>9789400804876</td>\n",
       "      <td>Young_adult</td>\n",
       "    </tr>\n",
       "    <tr>\n",
       "      <th>2</th>\n",
       "      <td>impfic-work-3723</td>\n",
       "      <td>impfic-review-1</td>\n",
       "      <td>1</td>\n",
       "      <td>0</td>\n",
       "      <td>0</td>\n",
       "      <td>0</td>\n",
       "      <td>fantastisch</td>\n",
       "      <td>185</td>\n",
       "      <td>9789490767648</td>\n",
       "      <td>Young_adult</td>\n",
       "    </tr>\n",
       "    <tr>\n",
       "      <th>3</th>\n",
       "      <td>impfic-work-3723</td>\n",
       "      <td>impfic-review-1</td>\n",
       "      <td>1</td>\n",
       "      <td>0</td>\n",
       "      <td>1</td>\n",
       "      <td>0</td>\n",
       "      <td>fantastisch</td>\n",
       "      <td>185</td>\n",
       "      <td>9789048416547</td>\n",
       "      <td>Young_adult</td>\n",
       "    </tr>\n",
       "    <tr>\n",
       "      <th>4</th>\n",
       "      <td>impfic-work-3723</td>\n",
       "      <td>impfic-review-1</td>\n",
       "      <td>1</td>\n",
       "      <td>0</td>\n",
       "      <td>1</td>\n",
       "      <td>0</td>\n",
       "      <td>fantastisch</td>\n",
       "      <td>185</td>\n",
       "      <td>9789400804876</td>\n",
       "      <td>Young_adult</td>\n",
       "    </tr>\n",
       "  </tbody>\n",
       "</table>\n",
       "</div>"
      ],
      "text/plain": [
       "            work_id        review_id  affect  style  narrative  reflection  \\\n",
       "0  impfic-work-3723  impfic-review-1       1      0          0           0   \n",
       "1  impfic-work-3723  impfic-review-1       1      0          0           0   \n",
       "2  impfic-work-3723  impfic-review-1       1      0          0           0   \n",
       "3  impfic-work-3723  impfic-review-1       1      0          1           0   \n",
       "4  impfic-work-3723  impfic-review-1       1      0          1           0   \n",
       "\n",
       "   impact_term  review_num_words           isbn    nur_genre  \n",
       "0  fantastisch               185  9789048416547  Young_adult  \n",
       "1  fantastisch               185  9789400804876  Young_adult  \n",
       "2  fantastisch               185  9789490767648  Young_adult  \n",
       "3  fantastisch               185  9789048416547  Young_adult  \n",
       "4  fantastisch               185  9789400804876  Young_adult  "
      ]
     },
     "execution_count": 8,
     "metadata": {},
     "output_type": "execute_result"
    }
   ],
   "source": [
    "dt.head()"
   ]
  },
  {
   "cell_type": "markdown",
   "id": "b0ac1aa7-007b-438d-b970-8b2f3378246d",
   "metadata": {},
   "source": [
    "Step below takes all impact terms and if there are any multiwords it appends the word as an additional row below."
   ]
  },
  {
   "cell_type": "code",
   "execution_count": 9,
   "id": "8a5eba3e-9f19-44c0-8a50-4cac50b55c83",
   "metadata": {},
   "outputs": [
    {
     "data": {
      "text/html": [
       "<div>\n",
       "<style scoped>\n",
       "    .dataframe tbody tr th:only-of-type {\n",
       "        vertical-align: middle;\n",
       "    }\n",
       "\n",
       "    .dataframe tbody tr th {\n",
       "        vertical-align: top;\n",
       "    }\n",
       "\n",
       "    .dataframe thead th {\n",
       "        text-align: right;\n",
       "    }\n",
       "</style>\n",
       "<table border=\"1\" class=\"dataframe\">\n",
       "  <thead>\n",
       "    <tr style=\"text-align: right;\">\n",
       "      <th></th>\n",
       "      <th>work_id</th>\n",
       "      <th>review_id</th>\n",
       "      <th>affect</th>\n",
       "      <th>style</th>\n",
       "      <th>narrative</th>\n",
       "      <th>reflection</th>\n",
       "      <th>impact_term</th>\n",
       "      <th>review_num_words</th>\n",
       "      <th>isbn</th>\n",
       "      <th>nur_genre</th>\n",
       "    </tr>\n",
       "  </thead>\n",
       "  <tbody>\n",
       "    <tr>\n",
       "      <th>0</th>\n",
       "      <td>impfic-work-3723</td>\n",
       "      <td>impfic-review-1</td>\n",
       "      <td>1</td>\n",
       "      <td>0</td>\n",
       "      <td>0</td>\n",
       "      <td>0</td>\n",
       "      <td>fantastisch</td>\n",
       "      <td>185</td>\n",
       "      <td>9789048416547</td>\n",
       "      <td>Young_adult</td>\n",
       "    </tr>\n",
       "    <tr>\n",
       "      <th>1</th>\n",
       "      <td>impfic-work-3723</td>\n",
       "      <td>impfic-review-1</td>\n",
       "      <td>1</td>\n",
       "      <td>0</td>\n",
       "      <td>0</td>\n",
       "      <td>0</td>\n",
       "      <td>fantastisch</td>\n",
       "      <td>185</td>\n",
       "      <td>9789400804876</td>\n",
       "      <td>Young_adult</td>\n",
       "    </tr>\n",
       "    <tr>\n",
       "      <th>2</th>\n",
       "      <td>impfic-work-3723</td>\n",
       "      <td>impfic-review-1</td>\n",
       "      <td>1</td>\n",
       "      <td>0</td>\n",
       "      <td>0</td>\n",
       "      <td>0</td>\n",
       "      <td>fantastisch</td>\n",
       "      <td>185</td>\n",
       "      <td>9789490767648</td>\n",
       "      <td>Young_adult</td>\n",
       "    </tr>\n",
       "    <tr>\n",
       "      <th>3</th>\n",
       "      <td>impfic-work-3723</td>\n",
       "      <td>impfic-review-1</td>\n",
       "      <td>1</td>\n",
       "      <td>0</td>\n",
       "      <td>1</td>\n",
       "      <td>0</td>\n",
       "      <td>fantastisch</td>\n",
       "      <td>185</td>\n",
       "      <td>9789048416547</td>\n",
       "      <td>Young_adult</td>\n",
       "    </tr>\n",
       "    <tr>\n",
       "      <th>4</th>\n",
       "      <td>impfic-work-3723</td>\n",
       "      <td>impfic-review-1</td>\n",
       "      <td>1</td>\n",
       "      <td>0</td>\n",
       "      <td>1</td>\n",
       "      <td>0</td>\n",
       "      <td>fantastisch</td>\n",
       "      <td>185</td>\n",
       "      <td>9789400804876</td>\n",
       "      <td>Young_adult</td>\n",
       "    </tr>\n",
       "  </tbody>\n",
       "</table>\n",
       "</div>"
      ],
      "text/plain": [
       "            work_id        review_id  affect  style  narrative  reflection  \\\n",
       "0  impfic-work-3723  impfic-review-1       1      0          0           0   \n",
       "1  impfic-work-3723  impfic-review-1       1      0          0           0   \n",
       "2  impfic-work-3723  impfic-review-1       1      0          0           0   \n",
       "3  impfic-work-3723  impfic-review-1       1      0          1           0   \n",
       "4  impfic-work-3723  impfic-review-1       1      0          1           0   \n",
       "\n",
       "   impact_term  review_num_words           isbn    nur_genre  \n",
       "0  fantastisch               185  9789048416547  Young_adult  \n",
       "1  fantastisch               185  9789400804876  Young_adult  \n",
       "2  fantastisch               185  9789490767648  Young_adult  \n",
       "3  fantastisch               185  9789048416547  Young_adult  \n",
       "4  fantastisch               185  9789400804876  Young_adult  "
      ]
     },
     "execution_count": 9,
     "metadata": {},
     "output_type": "execute_result"
    }
   ],
   "source": [
    "dt_expanded = dt.assign(impact_term=dt['impact_term'].str.split()).explode('impact_term')\n",
    "dt_expanded.head()"
   ]
  },
  {
   "cell_type": "markdown",
   "id": "370e8cc9-c09c-49d0-86a8-eb600794da93",
   "metadata": {},
   "source": [
    "## Compute prevalence of affect, style, narrative and reflection"
   ]
  },
  {
   "cell_type": "markdown",
   "id": "e6333f92-a0d6-48e1-8d25-5dc635a25630",
   "metadata": {},
   "source": [
    "Every word in 'impact term' has been categorised as belonging to affect, style, narrative and reflection. However, the same word might be used in multiple contexts, across reviews of multiple books, and as such, receive different classifications.\n",
    "\n",
    "We wish to know what was the \"major\"/\"most prevalent\" classification for each word. To do so, we sum for each word within each genre their relative score for each type of impact."
   ]
  },
  {
   "cell_type": "code",
   "execution_count": 10,
   "id": "42e0043f-b79e-4464-a6d0-d6efb03378cd",
   "metadata": {},
   "outputs": [],
   "source": [
    "aggregated_data = dt_expanded.groupby(['impact_term', 'nur_genre'], as_index=False).agg(\n",
    "    affect=('affect', 'sum'),\n",
    "    style=('style', 'sum'),\n",
    "    narrative=('narrative', 'sum'),\n",
    "    reflection=('reflection', 'sum')\n",
    ")\n",
    "\n",
    "counts = dt_expanded.groupby(['impact_term', 'nur_genre']).size().reset_index(name='impact_term_count')\n",
    "\n",
    "table = pd.merge(aggregated_data, counts, on=['impact_term', 'nur_genre'])\n"
   ]
  },
  {
   "cell_type": "code",
   "execution_count": 11,
   "id": "fcfcd6d4-94f7-4b63-ab4d-46b2616276b8",
   "metadata": {},
   "outputs": [
    {
     "data": {
      "text/html": [
       "<div>\n",
       "<style scoped>\n",
       "    .dataframe tbody tr th:only-of-type {\n",
       "        vertical-align: middle;\n",
       "    }\n",
       "\n",
       "    .dataframe tbody tr th {\n",
       "        vertical-align: top;\n",
       "    }\n",
       "\n",
       "    .dataframe thead th {\n",
       "        text-align: right;\n",
       "    }\n",
       "</style>\n",
       "<table border=\"1\" class=\"dataframe\">\n",
       "  <thead>\n",
       "    <tr style=\"text-align: right;\">\n",
       "      <th></th>\n",
       "      <th>impact_term</th>\n",
       "      <th>nur_genre</th>\n",
       "      <th>affect</th>\n",
       "      <th>style</th>\n",
       "      <th>narrative</th>\n",
       "      <th>reflection</th>\n",
       "      <th>impact_term_count</th>\n",
       "    </tr>\n",
       "  </thead>\n",
       "  <tbody>\n",
       "    <tr>\n",
       "      <th>0</th>\n",
       "      <td>(begrijp|begrijpt|begreep|begrepen|begrijpen)....</td>\n",
       "      <td>Children_fiction</td>\n",
       "      <td>0</td>\n",
       "      <td>0</td>\n",
       "      <td>0</td>\n",
       "      <td>449</td>\n",
       "      <td>449</td>\n",
       "    </tr>\n",
       "    <tr>\n",
       "      <th>1</th>\n",
       "      <td>(begrijp|begrijpt|begreep|begrepen|begrijpen)....</td>\n",
       "      <td>Fantasy_fiction</td>\n",
       "      <td>0</td>\n",
       "      <td>0</td>\n",
       "      <td>0</td>\n",
       "      <td>538</td>\n",
       "      <td>538</td>\n",
       "    </tr>\n",
       "    <tr>\n",
       "      <th>2</th>\n",
       "      <td>(begrijp|begrijpt|begreep|begrepen|begrijpen)....</td>\n",
       "      <td>Historical_fiction</td>\n",
       "      <td>0</td>\n",
       "      <td>0</td>\n",
       "      <td>0</td>\n",
       "      <td>75</td>\n",
       "      <td>75</td>\n",
       "    </tr>\n",
       "    <tr>\n",
       "      <th>3</th>\n",
       "      <td>(begrijp|begrijpt|begreep|begrepen|begrijpen)....</td>\n",
       "      <td>Literary_fiction</td>\n",
       "      <td>0</td>\n",
       "      <td>0</td>\n",
       "      <td>0</td>\n",
       "      <td>10504</td>\n",
       "      <td>10504</td>\n",
       "    </tr>\n",
       "    <tr>\n",
       "      <th>4</th>\n",
       "      <td>(begrijp|begrijpt|begreep|begrepen|begrijpen)....</td>\n",
       "      <td>Literary_thriller</td>\n",
       "      <td>0</td>\n",
       "      <td>0</td>\n",
       "      <td>0</td>\n",
       "      <td>3372</td>\n",
       "      <td>3372</td>\n",
       "    </tr>\n",
       "  </tbody>\n",
       "</table>\n",
       "</div>"
      ],
      "text/plain": [
       "                                         impact_term           nur_genre  \\\n",
       "0  (begrijp|begrijpt|begreep|begrepen|begrijpen)....    Children_fiction   \n",
       "1  (begrijp|begrijpt|begreep|begrepen|begrijpen)....     Fantasy_fiction   \n",
       "2  (begrijp|begrijpt|begreep|begrepen|begrijpen)....  Historical_fiction   \n",
       "3  (begrijp|begrijpt|begreep|begrepen|begrijpen)....    Literary_fiction   \n",
       "4  (begrijp|begrijpt|begreep|begrepen|begrijpen)....   Literary_thriller   \n",
       "\n",
       "   affect  style  narrative  reflection  impact_term_count  \n",
       "0       0      0          0         449                449  \n",
       "1       0      0          0         538                538  \n",
       "2       0      0          0          75                 75  \n",
       "3       0      0          0       10504              10504  \n",
       "4       0      0          0        3372               3372  "
      ]
     },
     "execution_count": 11,
     "metadata": {},
     "output_type": "execute_result"
    }
   ],
   "source": [
    "table.head()"
   ]
  },
  {
   "cell_type": "markdown",
   "id": "2d6b911e-01a5-4e0b-9d69-617a495f5254",
   "metadata": {},
   "source": [
    "Identify the impact that has the maximum value, and thus it is the prevalent impact:"
   ]
  },
  {
   "cell_type": "code",
   "execution_count": 12,
   "id": "c97d82ed-b0eb-4b98-a2b3-7f50eb0d079c",
   "metadata": {},
   "outputs": [],
   "source": [
    "# use `map_function` for this. This function is available at the top of the page.\n",
    "table['prevalent_impact'] = table.apply(map_function,axis=1)"
   ]
  },
  {
   "cell_type": "code",
   "execution_count": 13,
   "id": "68d4c731-5381-4d0f-afa2-a9ce340530c7",
   "metadata": {},
   "outputs": [],
   "source": [
    "table['impact_term'] = table['impact_term'].astype(str)\n",
    "table['nur_genre'] = table['nur_genre'].astype(str)\n",
    "dt_expanded['impact_term'] = dt_expanded['impact_term'].astype(str)\n",
    "dt_expanded['nur_genre'] = dt_expanded['nur_genre'].astype(str)"
   ]
  },
  {
   "cell_type": "code",
   "execution_count": 14,
   "id": "eef49307-2123-465e-9353-f36d61b1b1a5",
   "metadata": {},
   "outputs": [],
   "source": [
    "table_minimal = table[['impact_term', 'nur_genre', 'prevalent_impact']]"
   ]
  },
  {
   "cell_type": "markdown",
   "id": "8060edfc-4122-4f20-987b-d36933010f89",
   "metadata": {},
   "source": [
    "The result of applying `map_function` is that for each impact term, there will be a unique impact value. This is stored in the `prevalent_impact` column.\n",
    "\n",
    "For example:"
   ]
  },
  {
   "cell_type": "code",
   "execution_count": 15,
   "id": "d92cf8ce-1dc3-49c0-ae76-d41fdf6185e5",
   "metadata": {},
   "outputs": [
    {
     "data": {
      "text/html": [
       "<div>\n",
       "<style scoped>\n",
       "    .dataframe tbody tr th:only-of-type {\n",
       "        vertical-align: middle;\n",
       "    }\n",
       "\n",
       "    .dataframe tbody tr th {\n",
       "        vertical-align: top;\n",
       "    }\n",
       "\n",
       "    .dataframe thead th {\n",
       "        text-align: right;\n",
       "    }\n",
       "</style>\n",
       "<table border=\"1\" class=\"dataframe\">\n",
       "  <thead>\n",
       "    <tr style=\"text-align: right;\">\n",
       "      <th></th>\n",
       "      <th>impact_term</th>\n",
       "      <th>nur_genre</th>\n",
       "      <th>prevalent_impact</th>\n",
       "    </tr>\n",
       "  </thead>\n",
       "  <tbody>\n",
       "    <tr>\n",
       "      <th>0</th>\n",
       "      <td>(begrijp|begrijpt|begreep|begrepen|begrijpen)....</td>\n",
       "      <td>Children_fiction</td>\n",
       "      <td>reflection</td>\n",
       "    </tr>\n",
       "    <tr>\n",
       "      <th>1</th>\n",
       "      <td>(begrijp|begrijpt|begreep|begrepen|begrijpen)....</td>\n",
       "      <td>Fantasy_fiction</td>\n",
       "      <td>reflection</td>\n",
       "    </tr>\n",
       "  </tbody>\n",
       "</table>\n",
       "</div>"
      ],
      "text/plain": [
       "                                         impact_term         nur_genre  \\\n",
       "0  (begrijp|begrijpt|begreep|begrepen|begrijpen)....  Children_fiction   \n",
       "1  (begrijp|begrijpt|begreep|begrepen|begrijpen)....   Fantasy_fiction   \n",
       "\n",
       "  prevalent_impact  \n",
       "0       reflection  \n",
       "1       reflection  "
      ]
     },
     "execution_count": 15,
     "metadata": {},
     "output_type": "execute_result"
    }
   ],
   "source": [
    "table_minimal.head(2)"
   ]
  },
  {
   "cell_type": "markdown",
   "id": "29c1157b-7193-4288-96b6-0c76c9003fc1",
   "metadata": {},
   "source": [
    "We're ready to merge this info with the impact model output:"
   ]
  },
  {
   "cell_type": "code",
   "execution_count": 16,
   "id": "758244e5-deb1-483a-835b-756ef51f5a93",
   "metadata": {},
   "outputs": [],
   "source": [
    "prevalence = pd.merge(dt_expanded, table_minimal, how='left', on = ['impact_term', 'nur_genre'])"
   ]
  },
  {
   "cell_type": "code",
   "execution_count": 17,
   "id": "0b69583f-7aa3-4159-89f3-2ebeb4a3c062",
   "metadata": {},
   "outputs": [
    {
     "data": {
      "text/html": [
       "<div>\n",
       "<style scoped>\n",
       "    .dataframe tbody tr th:only-of-type {\n",
       "        vertical-align: middle;\n",
       "    }\n",
       "\n",
       "    .dataframe tbody tr th {\n",
       "        vertical-align: top;\n",
       "    }\n",
       "\n",
       "    .dataframe thead th {\n",
       "        text-align: right;\n",
       "    }\n",
       "</style>\n",
       "<table border=\"1\" class=\"dataframe\">\n",
       "  <thead>\n",
       "    <tr style=\"text-align: right;\">\n",
       "      <th></th>\n",
       "      <th>work_id</th>\n",
       "      <th>review_id</th>\n",
       "      <th>affect</th>\n",
       "      <th>style</th>\n",
       "      <th>narrative</th>\n",
       "      <th>reflection</th>\n",
       "      <th>impact_term</th>\n",
       "      <th>review_num_words</th>\n",
       "      <th>isbn</th>\n",
       "      <th>nur_genre</th>\n",
       "      <th>prevalent_impact</th>\n",
       "    </tr>\n",
       "  </thead>\n",
       "  <tbody>\n",
       "    <tr>\n",
       "      <th>0</th>\n",
       "      <td>impfic-work-3723</td>\n",
       "      <td>impfic-review-1</td>\n",
       "      <td>1</td>\n",
       "      <td>0</td>\n",
       "      <td>0</td>\n",
       "      <td>0</td>\n",
       "      <td>fantastisch</td>\n",
       "      <td>185</td>\n",
       "      <td>9789048416547</td>\n",
       "      <td>Young_adult</td>\n",
       "      <td>affect</td>\n",
       "    </tr>\n",
       "    <tr>\n",
       "      <th>1</th>\n",
       "      <td>impfic-work-3723</td>\n",
       "      <td>impfic-review-1</td>\n",
       "      <td>1</td>\n",
       "      <td>0</td>\n",
       "      <td>0</td>\n",
       "      <td>0</td>\n",
       "      <td>fantastisch</td>\n",
       "      <td>185</td>\n",
       "      <td>9789400804876</td>\n",
       "      <td>Young_adult</td>\n",
       "      <td>affect</td>\n",
       "    </tr>\n",
       "  </tbody>\n",
       "</table>\n",
       "</div>"
      ],
      "text/plain": [
       "            work_id        review_id  affect  style  narrative  reflection  \\\n",
       "0  impfic-work-3723  impfic-review-1       1      0          0           0   \n",
       "1  impfic-work-3723  impfic-review-1       1      0          0           0   \n",
       "\n",
       "   impact_term  review_num_words           isbn    nur_genre prevalent_impact  \n",
       "0  fantastisch               185  9789048416547  Young_adult           affect  \n",
       "1  fantastisch               185  9789400804876  Young_adult           affect  "
      ]
     },
     "execution_count": 17,
     "metadata": {},
     "output_type": "execute_result"
    }
   ],
   "source": [
    "prevalence.head(2)"
   ]
  },
  {
   "cell_type": "markdown",
   "id": "ff364356-ace1-4eda-8614-a71e4624892f",
   "metadata": {},
   "source": [
    "great, we have our dataframe now with the prevalent_impact column, we can start computing keyness"
   ]
  },
  {
   "cell_type": "code",
   "execution_count": 18,
   "id": "56bf7b07-0d8f-4902-949a-b8ed4f5b3778",
   "metadata": {},
   "outputs": [],
   "source": [
    "# note that by merging files we might end up with duplicates.\n",
    "# we get rid of those with drop_duplicates()\n",
    "\n",
    "prevalence_copy = prevalence.drop_duplicates()"
   ]
  },
  {
   "cell_type": "code",
   "execution_count": 19,
   "id": "1ccd9fbb-c44b-4e1e-ace4-bc36148c9a70",
   "metadata": {},
   "outputs": [
    {
     "data": {
      "text/plain": [
       "((6724367, 11), (7635611, 11))"
      ]
     },
     "execution_count": 19,
     "metadata": {},
     "output_type": "execute_result"
    }
   ],
   "source": [
    "# see the duplicates here:\n",
    "prevalence_copy.shape, prevalence.shape"
   ]
  },
  {
   "cell_type": "markdown",
   "id": "daab9ee8-95d8-430f-b762-617b2e2fc32d",
   "metadata": {},
   "source": [
    "## Compute keyness"
   ]
  },
  {
   "cell_type": "code",
   "execution_count": 20,
   "id": "468367c5-f969-4657-a840-9d663ed7c49b",
   "metadata": {},
   "outputs": [],
   "source": [
    "# use the function `compute_keyness`. This can be found at the top of the page.\n",
    "keyness = compute_keyness(prevalence_copy, 'nur_genre')"
   ]
  },
  {
   "cell_type": "code",
   "execution_count": 21,
   "id": "20e9961c-1900-4413-9554-3f0577b2b2ac",
   "metadata": {},
   "outputs": [
    {
     "data": {
      "text/plain": [
       "(2274, 5)"
      ]
     },
     "execution_count": 21,
     "metadata": {},
     "output_type": "execute_result"
    }
   ],
   "source": [
    "keyness.shape"
   ]
  },
  {
   "cell_type": "markdown",
   "id": "50a6719a-863b-4bcf-9b58-581866f2d72f",
   "metadata": {},
   "source": [
    "We're ready to add in this info with the rest of the dataframe. We select however the most useful columns to make the dataframe tidy."
   ]
  },
  {
   "cell_type": "code",
   "execution_count": 22,
   "id": "cd9d84d9-4787-420c-a241-fcdc669909b6",
   "metadata": {},
   "outputs": [],
   "source": [
    "prevalence_keyness = pd.merge(keyness, prevalence[['impact_term', 'nur_genre', 'prevalent_impact']], on=['impact_term', 'nur_genre'], how='left')"
   ]
  },
  {
   "cell_type": "code",
   "execution_count": 23,
   "id": "6f384f6d-c14a-4f5f-977f-753b65d2ddc9",
   "metadata": {},
   "outputs": [],
   "source": [
    "# again, remove duplicates, if any\n",
    "prevalence_keyness_copy = prevalence_keyness.drop_duplicates()"
   ]
  },
  {
   "cell_type": "code",
   "execution_count": 24,
   "id": "c92bce44-3c5f-4383-9058-087c4e423c4f",
   "metadata": {},
   "outputs": [
    {
     "data": {
      "text/plain": [
       "((2274, 6), (7635611, 6))"
      ]
     },
     "execution_count": 24,
     "metadata": {},
     "output_type": "execute_result"
    }
   ],
   "source": [
    "# there were indeed duplicates:\n",
    "prevalence_keyness_copy.shape, prevalence_keyness.shape"
   ]
  },
  {
   "cell_type": "markdown",
   "id": "e2ede0e7-5382-407c-b76a-6f3b2952e64b",
   "metadata": {},
   "source": [
    "This is our final dataframe:"
   ]
  },
  {
   "cell_type": "code",
   "execution_count": 25,
   "id": "73ef6085-5386-417d-9f89-bd3cdc8f05c9",
   "metadata": {},
   "outputs": [
    {
     "data": {
      "text/html": [
       "<div>\n",
       "<style scoped>\n",
       "    .dataframe tbody tr th:only-of-type {\n",
       "        vertical-align: middle;\n",
       "    }\n",
       "\n",
       "    .dataframe tbody tr th {\n",
       "        vertical-align: top;\n",
       "    }\n",
       "\n",
       "    .dataframe thead th {\n",
       "        text-align: right;\n",
       "    }\n",
       "</style>\n",
       "<table border=\"1\" class=\"dataframe\">\n",
       "  <thead>\n",
       "    <tr style=\"text-align: right;\">\n",
       "      <th></th>\n",
       "      <th>nur_genre</th>\n",
       "      <th>impact_term</th>\n",
       "      <th>NF_W</th>\n",
       "      <th>NF_WC</th>\n",
       "      <th>Keyness</th>\n",
       "      <th>prevalent_impact</th>\n",
       "    </tr>\n",
       "  </thead>\n",
       "  <tbody>\n",
       "    <tr>\n",
       "      <th>0</th>\n",
       "      <td>Children_fiction</td>\n",
       "      <td>(begrijp|begrijpt|begreep|begrepen|begrijpen)....</td>\n",
       "      <td>0.002271</td>\n",
       "      <td>0.003228</td>\n",
       "      <td>-0.351958</td>\n",
       "      <td>reflection</td>\n",
       "    </tr>\n",
       "    <tr>\n",
       "      <th>449</th>\n",
       "      <td>Children_fiction</td>\n",
       "      <td>(boek|verhaal|verhalen|portret*|wijze|verslag|...</td>\n",
       "      <td>0.000135</td>\n",
       "      <td>0.000176</td>\n",
       "      <td>-0.268096</td>\n",
       "      <td>reflection</td>\n",
       "    </tr>\n",
       "    <tr>\n",
       "      <th>475</th>\n",
       "      <td>Children_fiction</td>\n",
       "      <td>(dit|dat|het)</td>\n",
       "      <td>0.000451</td>\n",
       "      <td>0.000916</td>\n",
       "      <td>-0.708456</td>\n",
       "      <td>reflection</td>\n",
       "    </tr>\n",
       "    <tr>\n",
       "      <th>562</th>\n",
       "      <td>Children_fiction</td>\n",
       "      <td>(geeft|geven|gegeven|biedt|bieden|geboden|verg...</td>\n",
       "      <td>0.000415</td>\n",
       "      <td>0.001625</td>\n",
       "      <td>-1.365660</td>\n",
       "      <td>reflection</td>\n",
       "    </tr>\n",
       "    <tr>\n",
       "      <th>647</th>\n",
       "      <td>Children_fiction</td>\n",
       "      <td>(geschreven|omschreven|beschreven)</td>\n",
       "      <td>0.006153</td>\n",
       "      <td>0.009402</td>\n",
       "      <td>-0.423902</td>\n",
       "      <td>affect/style</td>\n",
       "    </tr>\n",
       "  </tbody>\n",
       "</table>\n",
       "</div>"
      ],
      "text/plain": [
       "            nur_genre                                        impact_term  \\\n",
       "0    Children_fiction  (begrijp|begrijpt|begreep|begrepen|begrijpen)....   \n",
       "449  Children_fiction  (boek|verhaal|verhalen|portret*|wijze|verslag|...   \n",
       "475  Children_fiction                                      (dit|dat|het)   \n",
       "562  Children_fiction  (geeft|geven|gegeven|biedt|bieden|geboden|verg...   \n",
       "647  Children_fiction                 (geschreven|omschreven|beschreven)   \n",
       "\n",
       "         NF_W     NF_WC   Keyness prevalent_impact  \n",
       "0    0.002271  0.003228 -0.351958       reflection  \n",
       "449  0.000135  0.000176 -0.268096       reflection  \n",
       "475  0.000451  0.000916 -0.708456       reflection  \n",
       "562  0.000415  0.001625 -1.365660       reflection  \n",
       "647  0.006153  0.009402 -0.423902     affect/style  "
      ]
     },
     "execution_count": 25,
     "metadata": {},
     "output_type": "execute_result"
    }
   ],
   "source": [
    "prevalence_keyness_copy.head()"
   ]
  },
  {
   "cell_type": "markdown",
   "id": "55b8e00a-90dd-4136-933d-75c845a14355",
   "metadata": {},
   "source": [
    "This dataframe is used later on for producing figures. These figures are rendered in R because the graphical capabilities of this software allows more flexibility for producing plots.\n",
    "\n",
    "The code to reproduce the scatter plots in R present in the paper is `plot_keyness.R`. It takes as input `prevalence_keyness.csv` and it saves automatically the plots."
   ]
  },
  {
   "cell_type": "code",
   "execution_count": 26,
   "id": "094d3fe6-bce1-4afb-ad77-328185ee750a",
   "metadata": {},
   "outputs": [],
   "source": [
    "prevalence_keyness_copy.to_csv('prevalence_keyness.csv', index = False)"
   ]
  },
  {
   "cell_type": "code",
   "execution_count": null,
   "id": "fee87123-cb0f-438f-ad03-a47110aab60b",
   "metadata": {},
   "outputs": [],
   "source": []
  },
  {
   "cell_type": "code",
   "execution_count": null,
   "id": "5dce758f-591e-455d-be2a-a45fd256c8df",
   "metadata": {},
   "outputs": [],
   "source": []
  }
 ],
 "metadata": {
  "kernelspec": {
   "display_name": "Python 3 (ipykernel)",
   "language": "python",
   "name": "python3"
  },
  "language_info": {
   "codemirror_mode": {
    "name": "ipython",
    "version": 3
   },
   "file_extension": ".py",
   "mimetype": "text/x-python",
   "name": "python",
   "nbconvert_exporter": "python",
   "pygments_lexer": "ipython3",
   "version": "3.10.12"
  }
 },
 "nbformat": 4,
 "nbformat_minor": 5
}
